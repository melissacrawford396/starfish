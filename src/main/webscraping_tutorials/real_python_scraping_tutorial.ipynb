{
 "cells": [
  {
   "cell_type": "markdown",
   "id": "72ce8751-d61a-466a-877c-b23e541a6c3c",
   "metadata": {},
   "source": [
    "## A Practical Introduction to Web Scraping in Python\n",
    "\n",
    "https://realpython.com/python-web-scraping-practical-introduction/"
   ]
  },
  {
   "cell_type": "code",
   "execution_count": 1,
   "id": "c4ae0d42-6cc8-47c1-9bbd-192e4acac315",
   "metadata": {},
   "outputs": [],
   "source": [
    "# raw html manipulation\n",
    "from urllib.request import urlopen\n",
    "\n",
    "# regular expressions\n",
    "import re\n",
    "\n"
   ]
  },
  {
   "cell_type": "code",
   "execution_count": 10,
   "id": "50547a2c-225c-4be0-a03c-7f37cd86fa69",
   "metadata": {},
   "outputs": [
    {
     "data": {
      "text/plain": [
       "<http.client.HTTPResponse at 0x1078db670>"
      ]
     },
     "execution_count": 10,
     "metadata": {},
     "output_type": "execute_result"
    }
   ],
   "source": [
    "url = \"http://olympus.realpython.org/profiles/aphrodite\"\n",
    "page = urlopen(url)\n",
    "page"
   ]
  },
  {
   "cell_type": "code",
   "execution_count": 11,
   "id": "f2747f22-f862-4b97-8cc2-7eb9a37906fc",
   "metadata": {},
   "outputs": [],
   "source": [
    "html_bytes = page.read()\n",
    "html = html_bytes.decode(\"utf-8\")"
   ]
  },
  {
   "cell_type": "code",
   "execution_count": 13,
   "id": "8a2451b7-f984-4147-8ae0-379087d45bc2",
   "metadata": {},
   "outputs": [
    {
     "name": "stdout",
     "output_type": "stream",
     "text": [
      "<html>\n",
      "<head>\n",
      "<title>Profile: Aphrodite</title>\n",
      "</head>\n",
      "<body bgcolor=\"yellow\">\n",
      "<center>\n",
      "<br><br>\n",
      "<img src=\"/static/aphrodite.gif\" />\n",
      "<h2>Name: Aphrodite</h2>\n",
      "<br><br>\n",
      "Favorite animal: Dove\n",
      "<br><br>\n",
      "Favorite color: Red\n",
      "<br><br>\n",
      "Hometown: Mount Olympus\n",
      "</center>\n",
      "</body>\n",
      "</html>\n",
      "\n"
     ]
    }
   ],
   "source": [
    "print(html)"
   ]
  },
  {
   "cell_type": "code",
   "execution_count": 15,
   "id": "69e7c85b-60ed-4929-8f85-670231b618f4",
   "metadata": {},
   "outputs": [
    {
     "data": {
      "text/plain": [
       "14"
      ]
     },
     "execution_count": 15,
     "metadata": {},
     "output_type": "execute_result"
    }
   ],
   "source": [
    "tit = \"<title>\"\n",
    "title_index = html.find(tit)\n",
    "title_index"
   ]
  },
  {
   "cell_type": "code",
   "execution_count": 17,
   "id": "cf8f2831-f3ed-4ed2-ac40-31042b1777be",
   "metadata": {},
   "outputs": [
    {
     "data": {
      "text/plain": [
       "21"
      ]
     },
     "execution_count": 17,
     "metadata": {},
     "output_type": "execute_result"
    }
   ],
   "source": [
    "start_idx = title_index + len(tit)\n",
    "start_idx"
   ]
  },
  {
   "cell_type": "code",
   "execution_count": 20,
   "id": "cf46ff1d-a182-48d8-9a59-130aa027d965",
   "metadata": {},
   "outputs": [
    {
     "data": {
      "text/plain": [
       "39"
      ]
     },
     "execution_count": 20,
     "metadata": {},
     "output_type": "execute_result"
    }
   ],
   "source": [
    "end_tit = \"</title>\"\n",
    "end_idx = html.find(end_tit)\n",
    "end_idx"
   ]
  },
  {
   "cell_type": "code",
   "execution_count": 21,
   "id": "cc875637-bfd3-4981-a4e1-f2e8fd6fa329",
   "metadata": {},
   "outputs": [
    {
     "data": {
      "text/plain": [
       "'Profile: Aphrodite'"
      ]
     },
     "execution_count": 21,
     "metadata": {},
     "output_type": "execute_result"
    }
   ],
   "source": [
    "title = html[start_idx:end_idx]\n",
    "title"
   ]
  },
  {
   "cell_type": "code",
   "execution_count": null,
   "id": "215a3ea0-2592-49f7-8986-d382ec38a98f",
   "metadata": {},
   "outputs": [],
   "source": []
  },
  {
   "cell_type": "markdown",
   "id": "9a8d55e1-cd30-4b03-bd24-3f0c84d40e80",
   "metadata": {},
   "source": [
    "-------\n",
    "### Messier HTML Website"
   ]
  },
  {
   "cell_type": "code",
   "execution_count": 22,
   "id": "d3b0e4c7-c205-4269-9950-9b3d3b39f4db",
   "metadata": {},
   "outputs": [],
   "source": [
    "url2 = \"http://olympus.realpython.org/profiles/poseidon\"\n",
    "\n",
    "def get_title(url):\n",
    "    page = urlopen(url)\n",
    "    html = page.read().decode(\"utf-8\")\n",
    "    start_index = html.find(\"<title>\") + len(\"<title>\")\n",
    "    end_index = html.find(\"</title>\")\n",
    "    title = html[start_index:end_index]\n",
    "    return title"
   ]
  },
  {
   "cell_type": "code",
   "execution_count": 25,
   "id": "f9903fda-fe1b-4b39-80d0-bb6d4d6742f8",
   "metadata": {},
   "outputs": [
    {
     "data": {
      "text/plain": [
       "'\\n<head>\\n<title >Profile: Poseidon'"
      ]
     },
     "execution_count": 25,
     "metadata": {},
     "output_type": "execute_result"
    }
   ],
   "source": [
    "title2 = get_title(url2)\n",
    "title2"
   ]
  },
  {
   "cell_type": "markdown",
   "id": "12202601-58b9-454a-a999-052579058cff",
   "metadata": {},
   "source": [
    "Oh no! `<title >` --> messy messy\n",
    "\n",
    "We, can do, better!\n",
    "\n",
    "----\n",
    "## Regular Expressions\n",
    "- **metacharacters**: special charaters that denote different patterns.\n",
    "    - `*`: zero or more instances of what comes before the asterisk\n"
   ]
  },
  {
   "cell_type": "code",
   "execution_count": 27,
   "id": "bb2a76e5-68c6-4bf1-9046-ac167bdd2591",
   "metadata": {},
   "outputs": [
    {
     "data": {
      "text/plain": [
       "['ac']"
      ]
     },
     "execution_count": 27,
     "metadata": {},
     "output_type": "execute_result"
    }
   ],
   "source": [
    "re.findall(\"ab*c\", \"ac\")\n"
   ]
  },
  {
   "cell_type": "markdown",
   "id": "0653df88-2f2f-4453-bc0b-4a0701e954ca",
   "metadata": {},
   "source": [
    "\"ab*c\" --> matches:\n",
    "- begin with \"a\"\n",
    "- ends with \"c\"\n",
    "- has zero or more instances of \"b\" between the two"
   ]
  },
  {
   "cell_type": "code",
   "execution_count": 35,
   "id": "adf3171b-fd1e-4c40-a939-fd744c8437d2",
   "metadata": {},
   "outputs": [
    {
     "data": {
      "text/plain": [
       "['abc']"
      ]
     },
     "execution_count": 35,
     "metadata": {},
     "output_type": "execute_result"
    }
   ],
   "source": [
    "re.findall(\"ab*c\", \"abcd\")"
   ]
  },
  {
   "cell_type": "code",
   "execution_count": 36,
   "id": "4fe8f7aa-0958-4eda-8fa0-4c589161d270",
   "metadata": {},
   "outputs": [
    {
     "data": {
      "text/plain": [
       "['ac']"
      ]
     },
     "execution_count": 36,
     "metadata": {},
     "output_type": "execute_result"
    }
   ],
   "source": [
    "re.findall(\"ab*c\", \"acc\")"
   ]
  },
  {
   "cell_type": "code",
   "execution_count": 37,
   "id": "7dfab93c-3b5a-4af7-bf11-53d8324be5de",
   "metadata": {},
   "outputs": [
    {
     "data": {
      "text/plain": [
       "['abc', 'ac']"
      ]
     },
     "execution_count": 37,
     "metadata": {},
     "output_type": "execute_result"
    }
   ],
   "source": [
    "re.findall(\"ab*c\", \"abcac\")"
   ]
  },
  {
   "cell_type": "code",
   "execution_count": 38,
   "id": "317e0f2a-0170-4f1c-a036-8f85da6b214c",
   "metadata": {},
   "outputs": [
    {
     "data": {
      "text/plain": [
       "[]"
      ]
     },
     "execution_count": 38,
     "metadata": {},
     "output_type": "execute_result"
    }
   ],
   "source": [
    "re.findall(\"ab*c\", \"abdc\")"
   ]
  },
  {
   "cell_type": "markdown",
   "id": "59543f30-b27b-4812-9e9d-ab306a8872a5",
   "metadata": {},
   "source": [
    "#### Case sensitive\n",
    "You can pass an arg to make it not case sensitive"
   ]
  },
  {
   "cell_type": "code",
   "execution_count": 44,
   "id": "5fcb8408-86a2-4dc3-9971-fa7086975731",
   "metadata": {},
   "outputs": [
    {
     "data": {
      "text/plain": [
       "[]"
      ]
     },
     "execution_count": 44,
     "metadata": {},
     "output_type": "execute_result"
    }
   ],
   "source": [
    "re.findall(\"ab*c\", \"ABC\")"
   ]
  },
  {
   "cell_type": "code",
   "execution_count": 45,
   "id": "316f9c62-b45c-4c68-8330-805dc0bbf427",
   "metadata": {},
   "outputs": [
    {
     "data": {
      "text/plain": [
       "['ABC']"
      ]
     },
     "execution_count": 45,
     "metadata": {},
     "output_type": "execute_result"
    }
   ],
   "source": [
    "re.findall(\"ab*c\", \"ABC\", re.IGNORECASE)"
   ]
  },
  {
   "cell_type": "markdown",
   "id": "bf8b0bb3-fad6-468a-a401-ca5071458a7a",
   "metadata": {},
   "source": [
    "#### (.) period --> stands for any \\*one\\* single character"
   ]
  },
  {
   "cell_type": "code",
   "execution_count": 62,
   "id": "f6ae4acd-c19b-4524-be1e-a6c82a9abd0c",
   "metadata": {},
   "outputs": [
    {
     "data": {
      "text/plain": [
       "['abc']"
      ]
     },
     "execution_count": 62,
     "metadata": {},
     "output_type": "execute_result"
    }
   ],
   "source": [
    "re.findall(\"a.c\", \"abc\")"
   ]
  },
  {
   "cell_type": "code",
   "execution_count": 51,
   "id": "2eb93ae3-38ba-40ad-ad9a-3882208e9cc0",
   "metadata": {},
   "outputs": [
    {
     "data": {
      "text/plain": [
       "[]"
      ]
     },
     "execution_count": 51,
     "metadata": {},
     "output_type": "execute_result"
    }
   ],
   "source": [
    "re.findall(\"a.c\", \"abbc\")"
   ]
  },
  {
   "cell_type": "code",
   "execution_count": 52,
   "id": "321ee408-920b-42ea-8b29-3df40bfc8049",
   "metadata": {},
   "outputs": [
    {
     "data": {
      "text/plain": [
       "[]"
      ]
     },
     "execution_count": 52,
     "metadata": {},
     "output_type": "execute_result"
    }
   ],
   "source": [
    "re.findall(\"a.c\", \"ac\")"
   ]
  },
  {
   "cell_type": "code",
   "execution_count": 53,
   "id": "1ef393ef-b3ed-433e-a51e-98ca1ca5e74c",
   "metadata": {},
   "outputs": [
    {
     "data": {
      "text/plain": [
       "['acc']"
      ]
     },
     "execution_count": 53,
     "metadata": {},
     "output_type": "execute_result"
    }
   ],
   "source": [
    "re.findall(\"a.c\", \"acc\")"
   ]
  },
  {
   "cell_type": "markdown",
   "id": "1db8a4ff-86c0-47dd-9d8f-05a28fc27b42",
   "metadata": {},
   "source": [
    "#### .* --> any character, repeated any num times"
   ]
  },
  {
   "cell_type": "code",
   "execution_count": 58,
   "id": "c919dd02-ea50-488e-a856-24034a2e65e9",
   "metadata": {},
   "outputs": [
    {
     "data": {
      "text/plain": [
       "['abc']"
      ]
     },
     "execution_count": 58,
     "metadata": {},
     "output_type": "execute_result"
    }
   ],
   "source": [
    "re.findall(\"a.*c\", \"abc\")"
   ]
  },
  {
   "cell_type": "code",
   "execution_count": 59,
   "id": "59366985-e960-4bbf-a0d6-0b00d156d46e",
   "metadata": {},
   "outputs": [
    {
     "data": {
      "text/plain": [
       "['abbc']"
      ]
     },
     "execution_count": 59,
     "metadata": {},
     "output_type": "execute_result"
    }
   ],
   "source": [
    "re.findall(\"a.*c\", \"abbc\")"
   ]
  },
  {
   "cell_type": "code",
   "execution_count": 60,
   "id": "0ed3a5d9-54c3-4919-9b19-ace87cefef32",
   "metadata": {},
   "outputs": [
    {
     "data": {
      "text/plain": [
       "['ac']"
      ]
     },
     "execution_count": 60,
     "metadata": {},
     "output_type": "execute_result"
    }
   ],
   "source": [
    "re.findall(\"a.*c\", \"ac\")"
   ]
  },
  {
   "cell_type": "code",
   "execution_count": 61,
   "id": "cf9871bc-2ce2-4fe3-b20e-07e36ac0dbee",
   "metadata": {},
   "outputs": [
    {
     "data": {
      "text/plain": [
       "['acc']"
      ]
     },
     "execution_count": 61,
     "metadata": {},
     "output_type": "execute_result"
    }
   ],
   "source": [
    "re.findall(\"a.*c\", \"acc\")"
   ]
  },
  {
   "cell_type": "markdown",
   "id": "b05ea05a-59ed-49af-91ef-b34c90d1c078",
   "metadata": {},
   "source": [
    "#### re.search()\n",
    "- More complicated than re.findall()\n",
    "- re.search() --> returns a MatchObject with differen groups of data (there could be multiple matches inside of other matches)\n",
    "- You probably just need the first and most inclusive result"
   ]
  },
  {
   "cell_type": "code",
   "execution_count": 66,
   "id": "dd896ed7-2aaa-4902-b599-89f5e6912b0f",
   "metadata": {},
   "outputs": [
    {
     "data": {
      "text/plain": [
       "'ABC'"
      ]
     },
     "execution_count": 66,
     "metadata": {},
     "output_type": "execute_result"
    }
   ],
   "source": [
    "match_results = re.search(\"ab*c\", \"ABC\", re.IGNORECASE)\n",
    "match_results.group()"
   ]
  },
  {
   "cell_type": "markdown",
   "id": "6d693e92-37a8-4b9c-b724-280fe1f1c162",
   "metadata": {},
   "source": [
    "#### re.sub()\n",
    "- substitute: replace text in a string that matches a regular expression with new text. (kind of like .replace()\n",
    "- Pass reg expression, replacement text, string"
   ]
  },
  {
   "cell_type": "code",
   "execution_count": 68,
   "id": "6982467a-762c-4039-a4d9-9c3840d57fe9",
   "metadata": {},
   "outputs": [
    {
     "data": {
      "text/plain": [
       "'Everything is ELEPHANTS.'"
      ]
     },
     "execution_count": 68,
     "metadata": {},
     "output_type": "execute_result"
    }
   ],
   "source": [
    "string = \"Everything is <replaced> if it's in <tags>.\"\n",
    "string = re.sub(\"<.*>\", \"ELEPHANTS\", string)\n",
    "string"
   ]
  },
  {
   "cell_type": "markdown",
   "id": "bc1da4b8-4c13-4707-bf97-ee68a3ab08c9",
   "metadata": {},
   "source": [
    "--> greedy reg-exes, so try to find longest possible match when `*` is used\n",
    "\n",
    "#### `*?` --> match shortest possible string of text\n"
   ]
  },
  {
   "cell_type": "code",
   "execution_count": 69,
   "id": "a54b91a7-ffc7-4ad7-b866-104c419ab87c",
   "metadata": {},
   "outputs": [
    {
     "data": {
      "text/plain": [
       "\"Everything is ELEPHANTS if it's in ELEPHANTS.\""
      ]
     },
     "execution_count": 69,
     "metadata": {},
     "output_type": "execute_result"
    }
   ],
   "source": [
    "string = \"Everything is <replaced> if it's in <tags>.\"\n",
    "string = re.sub(\"<.*?>\", \"ELEPHANTS\", string)\n",
    "string"
   ]
  },
  {
   "cell_type": "markdown",
   "id": "625a6982-7d2d-44f2-be71-5c6111594de8",
   "metadata": {},
   "source": [
    "-----\n",
    "### Extract Text from HTML With RegEx\n",
    "Messy title part 2: `<TITLE >Profile: Dionysus</title  / >`\n"
   ]
  },
  {
   "cell_type": "code",
   "execution_count": 81,
   "id": "dd98ac5b-47ca-43bc-8847-06165cc7f6d5",
   "metadata": {},
   "outputs": [],
   "source": [
    "import re\n",
    "from urllib.request import urlopen\n",
    "\n",
    "def messy_regex_html():\n",
    "    url = \"http://olympus.realpython.org/profiles/dionysus\"\n",
    "    page = urlopen(url)\n",
    "    html = page.read().decode(\"utf-8\")\n",
    "    \n",
    "    pattern = \"<title.*?>.*?</title.*?>\"\n",
    "    match_results = re.search(pattern, html, re.IGNORECASE)\n",
    "    print(match_results)\n",
    "    \n",
    "    title = match_results.group()\n",
    "    print(title)\n",
    "    \n",
    "    title = re.sub(\"<.*?>\", \"\", title) # Remove HTML tags\n",
    "    print(title)"
   ]
  },
  {
   "cell_type": "code",
   "execution_count": 82,
   "id": "23b5b0f2-1618-487f-a0cf-0c747f3fc66d",
   "metadata": {},
   "outputs": [
    {
     "name": "stdout",
     "output_type": "stream",
     "text": [
      "<re.Match object; span=(14, 51), match='<TITLE >Profile: Dionysus</title  / >'>\n",
      "<TITLE >Profile: Dionysus</title  / >\n",
      "Profile: Dionysus\n"
     ]
    }
   ],
   "source": [
    "messy_regex_html()"
   ]
  },
  {
   "cell_type": "markdown",
   "id": "49439bf5-7df1-41d6-9f21-ee0a282c6402",
   "metadata": {},
   "source": [
    "----\n",
    "Quiz Time!\n"
   ]
  },
  {
   "cell_type": "code",
   "execution_count": 97,
   "id": "bdce5e4d-e39e-4d53-97f5-e28aa55e2dd5",
   "metadata": {},
   "outputs": [
    {
     "name": "stdout",
     "output_type": "stream",
     "text": [
      "b'<html>\\n<head>\\n<TITLE >Profile: Dionysus</title  / >\\n</head>\\n<body bgcolor=\"yellow\">\\n<center>\\n<br><br>\\n<img src=\"/static/dionysus.jpg\" />\\n<h2>Name: Dionysus</h2>\\n<img src=\"/static/grapes.png\"><br><br>\\nHometown: Mount Olympus\\n<br><br>\\nFavorite animal: Leopard <br>\\n<br>\\nFavorite Color: Wine\\n</center>\\n</body>\\n</html>\\n'\n",
      "\n",
      "<html>\n",
      "<head>\n",
      "<TITLE >Profile: Dionysus</title  / >\n",
      "</head>\n",
      "<body bgcolor=\"yellow\">\n",
      "<center>\n",
      "<br><br>\n",
      "<img src=\"/static/dionysus.jpg\" />\n",
      "<h2>Name: Dionysus</h2>\n",
      "<img src=\"/static/grapes.png\"><br><br>\n",
      "Hometown: Mount Olympus\n",
      "<br><br>\n",
      "Favorite animal: Leopard <br>\n",
      "<br>\n",
      "Favorite Color: Wine\n",
      "</center>\n",
      "</body>\n",
      "</html>\n",
      "\n"
     ]
    }
   ],
   "source": [
    "from urllib.request import urlopen\n",
    "\n",
    "url = \"http://olympus.realpython.org/profiles/dionysus\"\n",
    "\n",
    "page = urlopen(url)\n",
    "html_pre = page.read()\n",
    "print(html_pre)\n",
    "\n",
    "html = html_pre.decode('utf-8')\n",
    "print(f'\\n{html}')"
   ]
  },
  {
   "cell_type": "markdown",
   "id": "4443316a-c9df-4103-8017-03fb9a523725",
   "metadata": {},
   "source": [
    "#### Melissa's solution lol\n",
    "get name and favorite color"
   ]
  },
  {
   "cell_type": "code",
   "execution_count": 92,
   "id": "7bdf0920-982f-4eb1-8a47-bf6838c8976e",
   "metadata": {},
   "outputs": [],
   "source": [
    "# html.find(\"<h2>.*?</h2>.*?<br><br>.*?<br>.<br>\")\n",
    "name_start = html.find(\"Name\")\n",
    "name_start\n",
    "name_end = html.find(\"</h2\")"
   ]
  },
  {
   "cell_type": "code",
   "execution_count": 98,
   "id": "5774aeb3-5d2c-4a75-95e5-bd7c64ce788c",
   "metadata": {},
   "outputs": [
    {
     "data": {
      "text/plain": [
       "'Name: Dionysus'"
      ]
     },
     "execution_count": 98,
     "metadata": {},
     "output_type": "execute_result"
    }
   ],
   "source": [
    "html[name_start:name_end]"
   ]
  },
  {
   "cell_type": "code",
   "execution_count": 107,
   "id": "958e05a1-c469-4e74-8d9a-ffb3ec997403",
   "metadata": {},
   "outputs": [],
   "source": [
    "fav_start = html.find(\"Favorite Color\")\n",
    "fav_start\n",
    "fav_end = html.find(\"<\", fav_start)"
   ]
  },
  {
   "cell_type": "code",
   "execution_count": 108,
   "id": "b5c71ca6-cb69-42eb-9e16-d369f12a1c75",
   "metadata": {},
   "outputs": [
    {
     "data": {
      "text/plain": [
       "'Favorite Color: Wine'"
      ]
     },
     "execution_count": 108,
     "metadata": {},
     "output_type": "execute_result"
    }
   ],
   "source": [
    "html[fav_start:fav_end].strip()"
   ]
  },
  {
   "cell_type": "markdown",
   "id": "368c770d-80e5-4a9d-a418-3665e69f121d",
   "metadata": {},
   "source": [
    "#### Solution\n"
   ]
  },
  {
   "cell_type": "code",
   "execution_count": 103,
   "id": "cc6f707e-9fbe-4dfd-9900-f776d26bb6d1",
   "metadata": {},
   "outputs": [],
   "source": [
    "# read in the same\n",
    "from urllib.request import urlopen\n",
    "url = \"http://olympus.realpython.org/profiles/dionysus\"\n",
    "html_page = urlopen(url)\n",
    "html_text = html_page.read().decode(\"utf-8\")"
   ]
  },
  {
   "cell_type": "code",
   "execution_count": 104,
   "id": "06270741-e97b-4db6-b81b-1c90a46a02af",
   "metadata": {},
   "outputs": [
    {
     "name": "stdout",
     "output_type": "stream",
     "text": [
      "Dionysus\n",
      "Wine\n"
     ]
    }
   ],
   "source": [
    "# Lol, I didn't answer it how it wanted to\n",
    "# Not supposed to keep the keys\n",
    "for string in [\"Name: \", \"Favorite Color:\"]:\n",
    "    # I did this part at least\n",
    "    string_start_idx = html_text.find(string)\n",
    "    # Nope\n",
    "    text_start_idx = string_start_idx + len(string)\n",
    "\n",
    "    next_html_tag_offset = html_text[text_start_idx:].find(\"<\")\n",
    "    text_end_idx = text_start_idx + next_html_tag_offset\n",
    "\n",
    "    raw_text = html_text[text_start_idx : text_end_idx]\n",
    "    clean_text = raw_text.strip(\" \\r\\n\\t\")\n",
    "    print(clean_text)\n"
   ]
  },
  {
   "cell_type": "markdown",
   "id": "f32ee871-b93c-41da-8fb9-36cf1a3e1dbd",
   "metadata": {},
   "source": [
    "#### nifty strip too\n",
    "\n",
    "----\n",
    "\n",
    "## Use an HTML Parser for Web Scraping in Python\n",
    "\n"
   ]
  },
  {
   "cell_type": "code",
   "execution_count": 109,
   "id": "ccdef69d-cf8e-490e-9270-c44cbc2a653a",
   "metadata": {},
   "outputs": [],
   "source": [
    "from bs4 import BeautifulSoup\n",
    "from urllib.request import urlopen"
   ]
  },
  {
   "cell_type": "code",
   "execution_count": 110,
   "id": "9b3969f2-0d5a-4f18-aa8e-30c58642008d",
   "metadata": {},
   "outputs": [],
   "source": [
    "url = \"http://olympus.realpython.org/profiles/dionysus\"\n",
    "page = urlopen(url)\n",
    "html = page.read().decode(\"utf-8\")\n",
    "soup = BeautifulSoup(html, \"html.parser\")"
   ]
  },
  {
   "cell_type": "code",
   "execution_count": 113,
   "id": "823f67f6-8a57-4429-9fbf-59d8c072705b",
   "metadata": {},
   "outputs": [
    {
     "data": {
      "text/plain": [
       "'\\n\\nProfile: Dionysus\\n\\n\\n\\n\\n\\nName: Dionysus\\n\\nHometown: Mount Olympus\\n\\nFavorite animal: Leopard \\n\\nFavorite Color: Wine\\n\\n\\n\\n'"
      ]
     },
     "execution_count": 113,
     "metadata": {},
     "output_type": "execute_result"
    }
   ],
   "source": [
    "# Sometimes is easier to get the raw text\n",
    "soup.get_text()"
   ]
  },
  {
   "cell_type": "code",
   "execution_count": 114,
   "id": "a42aafd0-aff6-483e-9c90-78d33677960d",
   "metadata": {},
   "outputs": [
    {
     "data": {
      "text/plain": [
       "[<img src=\"/static/dionysus.jpg\"/>, <img src=\"/static/grapes.png\"/>]"
      ]
     },
     "execution_count": 114,
     "metadata": {},
     "output_type": "execute_result"
    }
   ],
   "source": [
    "# Other times its more useful to keep the HTML tags\n",
    "# Not strings, these are instances of Tag object\n",
    "soup.find_all(\"img\")"
   ]
  },
  {
   "cell_type": "code",
   "execution_count": 115,
   "id": "9b674557-2c01-4dab-8079-40882de52970",
   "metadata": {},
   "outputs": [],
   "source": [
    "img1, img2 = soup.find_all(\"img\")"
   ]
  },
  {
   "cell_type": "code",
   "execution_count": 116,
   "id": "9c512bf3-3d24-4d1c-8963-6455fc1a627a",
   "metadata": {},
   "outputs": [
    {
     "data": {
      "text/plain": [
       "'img'"
      ]
     },
     "execution_count": 116,
     "metadata": {},
     "output_type": "execute_result"
    }
   ],
   "source": [
    "img1.name"
   ]
  },
  {
   "cell_type": "code",
   "execution_count": 117,
   "id": "77e6f290-2ae4-4f9c-80a6-5efbc7e26564",
   "metadata": {},
   "outputs": [
    {
     "data": {
      "text/plain": [
       "'/static/dionysus.jpg'"
      ]
     },
     "execution_count": 117,
     "metadata": {},
     "output_type": "execute_result"
    }
   ],
   "source": [
    "img1['src']"
   ]
  },
  {
   "cell_type": "code",
   "execution_count": 121,
   "id": "7b545bc8-cb8e-40ef-a5d1-75d18c19a63e",
   "metadata": {},
   "outputs": [
    {
     "data": {
      "text/plain": [
       "<title>Profile: Dionysus</title>"
      ]
     },
     "execution_count": 121,
     "metadata": {},
     "output_type": "execute_result"
    }
   ],
   "source": [
    "# Beautiful Soup will clean up TITLE --> title\n",
    "soup.title"
   ]
  },
  {
   "cell_type": "code",
   "execution_count": 122,
   "id": "8f85f5b0-4078-4919-ab4d-e99a8392f833",
   "metadata": {},
   "outputs": [
    {
     "data": {
      "text/plain": [
       "'Profile: Dionysus'"
      ]
     },
     "execution_count": 122,
     "metadata": {},
     "output_type": "execute_result"
    }
   ],
   "source": [
    "soup.title.string"
   ]
  },
  {
   "cell_type": "code",
   "execution_count": 124,
   "id": "b6441986-f1ba-4607-8e35-3383d1e5b0bf",
   "metadata": {},
   "outputs": [
    {
     "data": {
      "text/plain": [
       "[<img src=\"/static/dionysus.jpg\"/>]"
      ]
     },
     "execution_count": 124,
     "metadata": {},
     "output_type": "execute_result"
    }
   ],
   "source": [
    "# Get specific tag\n",
    "soup.find_all('img', src='/static/dionysus.jpg')"
   ]
  },
  {
   "cell_type": "markdown",
   "id": "371de8b8-8296-46f9-82a5-ab72f59a801c",
   "metadata": {},
   "source": [
    "#### Quiz Time!\n"
   ]
  },
  {
   "cell_type": "code",
   "execution_count": 127,
   "id": "43dd4acd-53d3-46fd-a2bc-74da25981df0",
   "metadata": {},
   "outputs": [],
   "source": [
    "page = urlopen(\"http://olympus.realpython.org/profiles\")\n",
    "html = page.read().decode('utf-8')\n",
    "soupy = BeautifulSoup(html, 'html.parser')"
   ]
  },
  {
   "cell_type": "code",
   "execution_count": 132,
   "id": "e1d94cb9-0419-4fa9-a76f-4c399aadc3f7",
   "metadata": {},
   "outputs": [
    {
     "data": {
      "text/plain": [
       "[<a href=\"/profiles/aphrodite\">Aphrodite</a>,\n",
       " <a href=\"/profiles/poseidon\">Poseidon</a>,\n",
       " <a href=\"/profiles/dionysus\">Dionysus</a>]"
      ]
     },
     "execution_count": 132,
     "metadata": {},
     "output_type": "execute_result"
    }
   ],
   "source": [
    "soupy.find_all('a')"
   ]
  },
  {
   "cell_type": "code",
   "execution_count": 135,
   "id": "a774b38c-f5b7-4277-9a2f-e02c9b4591b9",
   "metadata": {},
   "outputs": [
    {
     "name": "stdout",
     "output_type": "stream",
     "text": [
      "base/profiles/aphrodite\n",
      "base/profiles/poseidon\n",
      "base/profiles/dionysus\n"
     ]
    }
   ],
   "source": [
    "# Solution\n",
    "# I forgot you could just do the link['href'] to get the value\n",
    "for link in soupy.find_all('a'):\n",
    "    base = \"base\"\n",
    "    print(base + link[\"href\"])"
   ]
  },
  {
   "cell_type": "markdown",
   "id": "73de1cda-78bd-4ff1-98a7-e15f7be9a69f",
   "metadata": {},
   "source": [
    "-----\n",
    "## Interact With HTML Forms\n",
    "What if I need to click buttons to get what I need?!?\n",
    "\n",
    "#### Mechanical Soup\n",
    "Installs **headless browswer**: web browser with no graphical user interface. \n",
    "\n",
    "\n"
   ]
  },
  {
   "cell_type": "code",
   "execution_count": 2,
   "id": "50872d1e-1493-449d-a624-bb360dbbe8a1",
   "metadata": {},
   "outputs": [],
   "source": [
    "import mechanicalsoup\n",
    "browser = mechanicalsoup.Browser(soup_config={'features': 'lxml'})"
   ]
  },
  {
   "cell_type": "code",
   "execution_count": 6,
   "id": "3e8eb741-fc84-44f6-83cd-edf43115c564",
   "metadata": {},
   "outputs": [
    {
     "data": {
      "text/plain": [
       "<Response [200]>"
      ]
     },
     "execution_count": 6,
     "metadata": {},
     "output_type": "execute_result"
    }
   ],
   "source": [
    "url = \"http://olympus.realpython.org/login\"\n",
    "\n",
    "# 200 --> success\n",
    "# 404 --> URL doesn't exist\n",
    "# 500 --> server error when making the request\n",
    "page = browser.get(url)\n",
    "page"
   ]
  },
  {
   "cell_type": "code",
   "execution_count": 7,
   "id": "d741f9e9-dcf2-4f36-bcf6-a93fcfee6774",
   "metadata": {},
   "outputs": [
    {
     "data": {
      "text/plain": [
       "bs4.BeautifulSoup"
      ]
     },
     "execution_count": 7,
     "metadata": {},
     "output_type": "execute_result"
    }
   ],
   "source": [
    "type(page.soup)"
   ]
  },
  {
   "cell_type": "code",
   "execution_count": 8,
   "id": "f9ba8fb5-141b-4162-92ab-9e6f431fd30c",
   "metadata": {},
   "outputs": [
    {
     "data": {
      "text/plain": [
       "<html>\n",
       "<head>\n",
       "<title>Log In</title>\n",
       "</head>\n",
       "<body bgcolor=\"yellow\">\n",
       "<center>\n",
       "<br/><br/>\n",
       "<h2>Please log in to access Mount Olympus:</h2>\n",
       "<br/><br/>\n",
       "<form action=\"/login\" method=\"post\" name=\"login\">\n",
       "Username: <input name=\"user\" type=\"text\"/><br/>\n",
       "Password: <input name=\"pwd\" type=\"password\"/><br/><br/>\n",
       "<input type=\"submit\" value=\"Submit\"/>\n",
       "</form>\n",
       "</center>\n",
       "</body>\n",
       "</html>"
      ]
     },
     "execution_count": 8,
     "metadata": {},
     "output_type": "execute_result"
    }
   ],
   "source": [
    "page.soup"
   ]
  },
  {
   "cell_type": "code",
   "execution_count": 9,
   "id": "d692abab-7400-4b2d-acc0-dd1b73a1bd09",
   "metadata": {},
   "outputs": [],
   "source": [
    "# 1\n",
    "browser = mechanicalsoup.Browser()\n",
    "url = \"http://olympus.realpython.org/login\"\n",
    "login_page = browser.get(url)\n",
    "login_html = login_page.soup"
   ]
  },
  {
   "cell_type": "code",
   "execution_count": 10,
   "id": "06d1ddd2-66fc-4cbf-8a52-ac1b639dc7c9",
   "metadata": {},
   "outputs": [
    {
     "data": {
      "text/plain": [
       "<form action=\"/login\" method=\"post\" name=\"login\">\n",
       "Username: <input name=\"user\" type=\"text\"/><br/>\n",
       "Password: <input name=\"pwd\" type=\"password\"/><br/><br/>\n",
       "<input type=\"submit\" value=\"Submit\"/>\n",
       "</form>"
      ]
     },
     "execution_count": 10,
     "metadata": {},
     "output_type": "execute_result"
    }
   ],
   "source": [
    "# 2\n",
    "form = login_html.select(\"form\")[0]\n",
    "form"
   ]
  },
  {
   "cell_type": "code",
   "execution_count": 18,
   "id": "5e9ebdf0-8edb-4dab-b6f9-c1beacda37aa",
   "metadata": {},
   "outputs": [
    {
     "data": {
      "text/plain": [
       "<form action=\"/login\" method=\"post\" name=\"login\">\n",
       "Username: <input name=\"user\" type=\"text\" value=\"zeus\"/><br/>\n",
       "Password: <input name=\"pwd\" type=\"password\" value=\"ThunderDude\"/><br/><br/>\n",
       "<input type=\"submit\" value=\"Submit\"/>\n",
       "</form>"
      ]
     },
     "execution_count": 18,
     "metadata": {},
     "output_type": "execute_result"
    }
   ],
   "source": [
    "form.select(\"input\")[0][\"value\"] = \"zeus\"\n",
    "form.select(\"input\")[1][\"value\"] = \"ThunderDude\"\n",
    "form"
   ]
  },
  {
   "cell_type": "code",
   "execution_count": 19,
   "id": "392f11b5-96c8-48b3-9f61-63bb2cc00348",
   "metadata": {},
   "outputs": [
    {
     "data": {
      "text/plain": [
       "(<Response [200]>, 'http://olympus.realpython.org/profiles')"
      ]
     },
     "execution_count": 19,
     "metadata": {},
     "output_type": "execute_result"
    }
   ],
   "source": [
    "# 3\n",
    "profiles_page = browser.submit(form, login_page.url)\n",
    "profiles_page, profiles_page.url\n"
   ]
  },
  {
   "cell_type": "markdown",
   "id": "4ab7f5bd-ae4c-4f99-8c42-5ae41569fc4b",
   "metadata": {},
   "source": [
    "#### Woo! We authenticated\n",
    "Now time to get the URL for each link ont he /profiles page\n"
   ]
  },
  {
   "cell_type": "code",
   "execution_count": 24,
   "id": "36906e14-0b9b-4ec1-a6d9-9b11ad0bc227",
   "metadata": {},
   "outputs": [
    {
     "data": {
      "text/plain": [
       "[<a href=\"/profiles/aphrodite\">Aphrodite</a>,\n",
       " <a href=\"/profiles/poseidon\">Poseidon</a>,\n",
       " <a href=\"/profiles/dionysus\">Dionysus</a>]"
      ]
     },
     "execution_count": 24,
     "metadata": {},
     "output_type": "execute_result"
    }
   ],
   "source": [
    "links = profiles_page.soup.select(\"a\")\n",
    "links"
   ]
  },
  {
   "cell_type": "code",
   "execution_count": 26,
   "id": "34c2ddd4-b262-434b-82c3-1aac9b6126e0",
   "metadata": {},
   "outputs": [
    {
     "name": "stdout",
     "output_type": "stream",
     "text": [
      "Aphrodite: http://olympus.realpython.org/profiles/aphrodite\n",
      "Poseidon: http://olympus.realpython.org/profiles/poseidon\n",
      "Dionysus: http://olympus.realpython.org/profiles/dionysus\n"
     ]
    }
   ],
   "source": [
    "base_url = \"http://olympus.realpython.org\"\n",
    "for link in links:\n",
    "    address = base_url + link['href']\n",
    "    text = link.text\n",
    "    print(f\"{text}: {address}\")"
   ]
  },
  {
   "cell_type": "markdown",
   "id": "4b18f544-7f57-4d23-a0fa-f295719c1a8d",
   "metadata": {},
   "source": [
    "#### Quiz Time!\n"
   ]
  },
  {
   "cell_type": "code",
   "execution_count": 27,
   "id": "b1c77d8a-e247-4b4c-8fd7-ee09e7f10e30",
   "metadata": {},
   "outputs": [
    {
     "name": "stdout",
     "output_type": "stream",
     "text": [
      "<title>All Profiles</title>\n"
     ]
    }
   ],
   "source": [
    "# I cheated, I'm tired\n",
    "# It was asking like.. the same info except\n",
    "print(profiles_page.soup.title)"
   ]
  },
  {
   "cell_type": "markdown",
   "id": "0a1c6f49-9efe-49c5-ba63-1d4b05bf6896",
   "metadata": {},
   "source": [
    "## Interact With Websites in Real Time\n",
    "Almost done, so close! Then to the gym with me\n",
    "\n",
    "Fetch real-time data from website that offers updated info (**I want dis**)\n",
    "\n",
    "\n",
    "Look by **id** for the **h2 header**\n",
    "* **#** means **id value**"
   ]
  },
  {
   "cell_type": "code",
   "execution_count": 34,
   "id": "36817fed-e4ff-4884-91ef-9e023235c4fc",
   "metadata": {},
   "outputs": [],
   "source": [
    "import mechanicalsoup\n",
    "import time\n",
    "\n",
    "url = \"http://olympus.realpython.org/dice\""
   ]
  },
  {
   "cell_type": "code",
   "execution_count": 30,
   "id": "dd833c3e-805e-49ff-b02f-129a25ea6d2e",
   "metadata": {},
   "outputs": [
    {
     "name": "stdout",
     "output_type": "stream",
     "text": [
      "<Response [200]>\n"
     ]
    },
    {
     "data": {
      "text/plain": [
       "<h2 id=\"result\">6</h2>"
      ]
     },
     "execution_count": 30,
     "metadata": {},
     "output_type": "execute_result"
    }
   ],
   "source": [
    "browser = mechanicalsoup.Browser()\n",
    "page = browser.get(url)\n",
    "\n",
    "tag = page.soup.select(\"#result\")[0]\n",
    "tag"
   ]
  },
  {
   "cell_type": "code",
   "execution_count": 33,
   "id": "40e939ff-36de-488f-9e12-1e0aaf5a95e2",
   "metadata": {},
   "outputs": [
    {
     "name": "stdout",
     "output_type": "stream",
     "text": [
      "The result of your dice roll is: 6\n"
     ]
    }
   ],
   "source": [
    "result = tag.text\n",
    "print(f\"The result of your dice roll is: {result}\")\n"
   ]
  },
  {
   "cell_type": "code",
   "execution_count": 40,
   "id": "2733551d-afe8-4999-bcc7-d08920c88d0e",
   "metadata": {},
   "outputs": [],
   "source": [
    "def loop(sleep, loops):\n",
    "    for i in range(loops):\n",
    "        browser = mechanicalsoup.Browser()\n",
    "        page = browser.get(url)\n",
    "        tag = page.soup.select(\"#result\")[0]\n",
    "        result = tag.text\n",
    "        print(f\"The result of your dice roll is: {result}. Loop: {i}\")\n",
    "        if (i+1 < loops):\n",
    "            time.sleep(sleep)\n",
    "\n"
   ]
  },
  {
   "cell_type": "code",
   "execution_count": 41,
   "id": "b18a2ded-df54-4ee0-ae7b-b74399b3e3cb",
   "metadata": {},
   "outputs": [
    {
     "name": "stdout",
     "output_type": "stream",
     "text": [
      "The result of your dice roll is: 1. Loop: 0\n",
      "The result of your dice roll is: 2. Loop: 1\n",
      "The result of your dice roll is: 1. Loop: 2\n"
     ]
    }
   ],
   "source": [
    "loop(5, 3)"
   ]
  },
  {
   "cell_type": "markdown",
   "id": "4dc474f7-c461-4d71-9f51-f2aa95a2879a",
   "metadata": {},
   "source": [
    "#### Suspicious\n",
    "Don't request the same page a bunch of times in a row.\n",
    "Check the footer for terms and services of the site.\n",
    "\n",
    "## Additional Resources\n",
    "\n",
    "* [Beautiful Soup: Build a Web Scraper With Python](https://realpython.com/beautiful-soup-web-scraper-python/)\n",
    "* [API Integration in Python](https://realpython.com/api-integration-in-python/)\n",
    "* [Python & APIs: A Winning Combo for Reading Public Data](https://realpython.com/python-api/)\n",
    "\n"
   ]
  },
  {
   "cell_type": "code",
   "execution_count": null,
   "id": "f34d30d1-d1a6-498e-bcbc-c28bccef509b",
   "metadata": {},
   "outputs": [],
   "source": []
  },
  {
   "cell_type": "code",
   "execution_count": null,
   "id": "a7d72a81-1415-4aeb-85c8-c2189fc85930",
   "metadata": {},
   "outputs": [],
   "source": []
  },
  {
   "cell_type": "code",
   "execution_count": null,
   "id": "342182c9-41cb-49aa-b92d-d048bcb073d9",
   "metadata": {},
   "outputs": [],
   "source": []
  },
  {
   "cell_type": "code",
   "execution_count": null,
   "id": "5b772eb1-c930-4c47-905b-1562d9c2ff71",
   "metadata": {},
   "outputs": [],
   "source": []
  },
  {
   "cell_type": "code",
   "execution_count": null,
   "id": "41da000c-a2d1-4a57-88f7-1bba408ae031",
   "metadata": {},
   "outputs": [],
   "source": []
  }
 ],
 "metadata": {
  "kernelspec": {
   "display_name": "Python 3 (ipykernel)",
   "language": "python",
   "name": "python3"
  },
  "language_info": {
   "codemirror_mode": {
    "name": "ipython",
    "version": 3
   },
   "file_extension": ".py",
   "mimetype": "text/x-python",
   "name": "python",
   "nbconvert_exporter": "python",
   "pygments_lexer": "ipython3",
   "version": "3.10.10"
  }
 },
 "nbformat": 4,
 "nbformat_minor": 5
}
