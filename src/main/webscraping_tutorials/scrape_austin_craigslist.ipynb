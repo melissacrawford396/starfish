{
 "cells": [
  {
   "cell_type": "markdown",
   "id": "c4c45b13-c759-4c02-88b2-8095e657fb6a",
   "metadata": {},
   "source": [
    "### Austin's Scraping\n",
    "\n"
   ]
  },
  {
   "cell_type": "code",
   "execution_count": 1,
   "id": "6f34f706-420d-407f-ba42-521828da7e07",
   "metadata": {},
   "outputs": [],
   "source": [
    "# raw html manipulation\n",
    "from urllib.request import urlopen\n",
    "\n",
    "# regular expressions\n",
    "import re\n",
    "\n",
    "from bs4 import BeautifulSoup\n",
    "\n",
    "import json\n",
    "import time\n",
    "import random"
   ]
  },
  {
   "cell_type": "markdown",
   "id": "143949e9-e27b-4c7a-aa2a-2c0961c79e15",
   "metadata": {},
   "source": [
    "- Get the lat, long, and cost\n",
    "- save to a json file\n",
    "- read in a json\n",
    "- plot on a map"
   ]
  },
  {
   "cell_type": "code",
   "execution_count": 2,
   "id": "f50a9454-2f3c-409c-9630-6ae70fcdcd40",
   "metadata": {},
   "outputs": [],
   "source": [
    "def base_url(zip, page, item=0):\n",
    "    return f\"https://austin.craigslist.org/search/apa?postal={zip}#search=1~gallery~{page}~{item}\"\n",
    "\n",
    "\n",
    "zip_baretts= \"78752\"\n",
    "url = \"https://austin.craigslist.org/search/apa?postal=78752#search=1~gallery~0~0\"\n",
    "url_page2 = \"https://austin.craigslist.org/search/apa?postal=78752#search=1~gallery~1~0\"\n"
   ]
  },
  {
   "cell_type": "code",
   "execution_count": 3,
   "id": "27e66487-5ca0-4539-b624-275a16a17c7e",
   "metadata": {},
   "outputs": [],
   "source": [
    "class Home:\n",
    "    home: dict\n",
    "    \n",
    "    def __init__(self, listing):\n",
    "        home = listing[\"item\"]\n",
    "        self.home = {\n",
    "            \"pos\": listing[\"position\"],\n",
    "            \"lat\": home[\"latitude\"],\n",
    "            \"long\": home[\"longitude\"],\n",
    "        }\n",
    "        \n",
    "\n"
   ]
  },
  {
   "cell_type": "code",
   "execution_count": 4,
   "id": "e5ba2b25-706f-426e-9932-6cb356c06ca5",
   "metadata": {},
   "outputs": [
    {
     "data": {
      "text/plain": [
       "0.6589829431665349"
      ]
     },
     "execution_count": 4,
     "metadata": {},
     "output_type": "execute_result"
    }
   ],
   "source": [
    "random.uniform(0,1)"
   ]
  },
  {
   "cell_type": "code",
   "execution_count": null,
   "id": "333e7c5a-f613-4ca5-82c7-ac2d2e889949",
   "metadata": {},
   "outputs": [],
   "source": []
  },
  {
   "cell_type": "code",
   "execution_count": null,
   "id": "a22068ff-c7ce-4333-a8c9-e234789a1120",
   "metadata": {},
   "outputs": [],
   "source": []
  },
  {
   "cell_type": "code",
   "execution_count": 5,
   "id": "4f2b2f13-9980-43fb-95ab-99bd9a345a16",
   "metadata": {},
   "outputs": [],
   "source": [
    "\n",
    "\n",
    "zip_baretts = \"78752\"\n",
    "\n",
    "\n",
    "class CraigsList:\n",
    "    sleep_time = 0.5\n",
    "\n",
    "    def __init__(self, zip=zip_baretts):\n",
    "        self.zip = zip\n",
    "        random.seed(42)\n",
    "    \n",
    "    def getAllHomes(self, num_pages=1):\n",
    "        all_homes = []\n",
    "        for idx in range(num_pages):\n",
    "            page = self.getListings(page=idx)\n",
    "            homes = self.parseToHomes(page)\n",
    "            all_homes.extend(homes)\n",
    "            if (idx > 0):\n",
    "                self.sleepABit()\n",
    "            \n",
    "        return all_homes\n",
    "        \n",
    "\n",
    "                           \n",
    "    def getListings(self, page=0):\n",
    "        url = base_url(zip_baretts, page=0)\n",
    "        page = urlopen(url)\n",
    "        \n",
    "        html_bytes = page.read()\n",
    "        html = html_bytes.decode(\"utf-8\")\n",
    "    \n",
    "        soup = BeautifulSoup(html, \"html.parser\")\n",
    "        search_page = soup.find(\"script\", id=\"ld_searchpage_results\")\n",
    "        return search_page\n",
    "    \n",
    "    \n",
    "    def parseToHomes(self, search_page):\n",
    "        json_text = json.loads(search_page.text)\n",
    "        listings = json_text[\"itemListElement\"]\n",
    "        \n",
    "        homes = []\n",
    "        for elem in listings:\n",
    "            homes.append(Home(elem))\n",
    "        return homes\n",
    "\n",
    "    def sleepABit(self):\n",
    "        random_time = random.uniform(0, 1)\n",
    "        time_to_sleep = random_time + self.sleep_time\n",
    "        print(f\"Sleeping for: {time_to_sleep}\")\n",
    "        time.sleep(time_to_sleep)\n",
    "        \n",
    "    \n",
    "    def saveToJson(self, homes, file_path):\n",
    "        pass\n",
    "        \n",
    "    \n",
    "    def readJson(self, file_path):\n",
    "        pass "
   ]
  },
  {
   "cell_type": "code",
   "execution_count": 6,
   "id": "689c3624-04e6-41eb-bd4c-c5dee5ea8857",
   "metadata": {},
   "outputs": [
    {
     "name": "stdout",
     "output_type": "stream",
     "text": [
      "Sleeping for: 1.1394267984578836\n",
      "Sleeping for: 0.5250107552226669\n"
     ]
    },
    {
     "data": {
      "text/plain": [
       "969"
      ]
     },
     "execution_count": 6,
     "metadata": {},
     "output_type": "execute_result"
    }
   ],
   "source": [
    "craigs = CraigsList()\n",
    "homes = craigs.getAllHomes(num_pages=3)\n",
    "len(homes)"
   ]
  },
  {
   "cell_type": "code",
   "execution_count": null,
   "id": "b3ab1ed0-6c88-42c6-afc1-73b923b84f68",
   "metadata": {},
   "outputs": [],
   "source": []
  },
  {
   "cell_type": "code",
   "execution_count": null,
   "id": "bd79e1af-a032-4197-9a68-8e8eaeaa79f3",
   "metadata": {},
   "outputs": [],
   "source": []
  },
  {
   "cell_type": "code",
   "execution_count": null,
   "id": "c238c12c-4bfc-4600-a90c-5af03a159dfd",
   "metadata": {},
   "outputs": [],
   "source": []
  },
  {
   "cell_type": "code",
   "execution_count": null,
   "id": "fbb26df2-16b7-48a8-b20e-c5c20a14a8ed",
   "metadata": {},
   "outputs": [],
   "source": []
  }
 ],
 "metadata": {
  "kernelspec": {
   "display_name": "Python 3 (ipykernel)",
   "language": "python",
   "name": "python3"
  },
  "language_info": {
   "codemirror_mode": {
    "name": "ipython",
    "version": 3
   },
   "file_extension": ".py",
   "mimetype": "text/x-python",
   "name": "python",
   "nbconvert_exporter": "python",
   "pygments_lexer": "ipython3",
   "version": "3.10.10"
  }
 },
 "nbformat": 4,
 "nbformat_minor": 5
}
